{
  "nbformat": 4,
  "nbformat_minor": 0,
  "metadata": {
    "colab": {
      "provenance": [],
      "authorship_tag": "ABX9TyPsIGc54zXKCQa+DjwEC0hh",
      "include_colab_link": true
    },
    "kernelspec": {
      "name": "python3",
      "display_name": "Python 3"
    },
    "language_info": {
      "name": "python"
    }
  },
  "cells": [
    {
      "cell_type": "markdown",
      "metadata": {
        "id": "view-in-github",
        "colab_type": "text"
      },
      "source": [
        "<a href=\"https://colab.research.google.com/github/Christian336/Blackjack/blob/main/backend/Chess.ipynb\" target=\"_parent\"><img src=\"https://colab.research.google.com/assets/colab-badge.svg\" alt=\"Open In Colab\"/></a>"
      ]
    },
    {
      "cell_type": "markdown",
      "source": [
        "PROJETO\n"
      ],
      "metadata": {
        "id": "CpzkWgmyna77"
      }
    },
    {
      "cell_type": "code",
      "execution_count": 2,
      "metadata": {
        "colab": {
          "base_uri": "https://localhost:8080/"
        },
        "id": "MX9XAVAMhao5",
        "outputId": "7228525b-8da9-4180-cb25-d41dba8cba0d"
      },
      "outputs": [
        {
          "output_type": "stream",
          "name": "stdout",
          "text": [
            "Looking in indexes: https://pypi.org/simple, https://us-python.pkg.dev/colab-wheels/public/simple/\n",
            "Requirement already satisfied: chess in /usr/local/lib/python3.9/dist-packages (1.9.4)\n"
          ]
        }
      ],
      "source": [
        "pip install chess"
      ]
    },
    {
      "cell_type": "code",
      "source": [
        "class Graph:\n",
        "    def __init__(self):\n",
        "        self.graph = {}\n",
        "\n",
        "    def add_vertice(self, vertice):\n",
        "        if vertice not in self.graph:\n",
        "            self.graph[vertice] = []\n",
        "\n",
        "    def add_aresta(self, src, dest):\n",
        "        if src in self.graph:\n",
        "            self.graph[src].append(dest)\n",
        "        else:\n",
        "            self.graph[src] = [dest]\n",
        "\n",
        "    def get_vertices(self):\n",
        "        return list(self.graph.keys())\n",
        "\n",
        "    def get_arestas(self):\n",
        "        arestas = []\n",
        "        for vertice in self.graph:\n",
        "            for vizinho in self.graph[vertice]:\n",
        "                arestas.append((vertice, vizinho))\n",
        "        return arestas"
      ],
      "metadata": {
        "id": "jX7Ly4YKMBGp"
      },
      "execution_count": 2,
      "outputs": []
    },
    {
      "cell_type": "code",
      "source": [
        "import chess\n",
        "\n",
        "profundidade = 10\n",
        "board = chess.Board()\n",
        "grafo = Graph()\n",
        "\n",
        "while True:\n",
        "    print(board)\n",
        "\n",
        "    if board.is_checkmate():\n",
        "        print('Negras Ganharam')\n",
        "        break\n",
        "\n",
        "    if board.is_check():\n",
        "      print('Cheque!')\n",
        "    \n",
        "    print(board.legal_moves)\n",
        "    lances = board.legal_moves\n",
        "    for l in lances:\n",
        "      grafo.add_vertice(str(l))\n",
        "    print(grafo.get_vertices())\n",
        "   \n",
        "    while True:\n",
        "      try:\n",
        "        board.push_san(input('Brancas Jogam\\nLance: '))\n",
        "        break\n",
        "      except:\n",
        "        print('Lance Inválido')\n",
        "\n",
        "    print(board)\n",
        "\n",
        "    if board.is_checkmate():\n",
        "        print('Brancas Ganharam')\n",
        "        break\n",
        "        \n",
        "    if board.is_check():\n",
        "      print('Cheque!')\n",
        "  \n",
        "    print(board.legal_moves)\n",
        "    lances = board.legal_moves\n",
        "    for l in lances:\n",
        "      grafo.add_vertice(str(l))\n",
        "    print(grafo.get_vertices())\n",
        "\n",
        "    while True:\n",
        "      try:\n",
        "        board.push_san(input('Negras jogam\\nLance: '))\n",
        "        break\n",
        "      except:\n",
        "         print('Lance Inválido')"
      ],
      "metadata": {
        "colab": {
          "base_uri": "https://localhost:8080/"
        },
        "id": "vUY_SkPynfTj",
        "outputId": "9ff3dd76-29db-4f12-a453-8efc6696e018"
      },
      "execution_count": null,
      "outputs": [
        {
          "output_type": "stream",
          "name": "stdout",
          "text": [
            "r n b q k b n r\n",
            "p p p p p p p p\n",
            ". . . . . . . .\n",
            ". . . . . . . .\n",
            ". . . . . . . .\n",
            ". . . . . . . .\n",
            "P P P P P P P P\n",
            "R N B Q K B N R\n",
            "<LegalMoveGenerator at 0x7f75e27ddee0 (Nh3, Nf3, Nc3, Na3, h3, g3, f3, e3, d3, c3, b3, a3, h4, g4, f4, e4, d4, c4, b4, a4)>\n",
            "['g1h3', 'g1f3', 'b1c3', 'b1a3', 'h2h3', 'g2g3', 'f2f3', 'e2e3', 'd2d3', 'c2c3', 'b2b3', 'a2a3', 'h2h4', 'g2g4', 'f2f4', 'e2e4', 'd2d4', 'c2c4', 'b2b4', 'a2a4']\n",
            "Brancas Jogam\n",
            "Lance: d2d3\n",
            "r n b q k b n r\n",
            "p p p p p p p p\n",
            ". . . . . . . .\n",
            ". . . . . . . .\n",
            ". . . . . . . .\n",
            ". . . P . . . .\n",
            "P P P . P P P P\n",
            "R N B Q K B N R\n",
            "<LegalMoveGenerator at 0x7f75e27dd3a0 (Nh6, Nf6, Nc6, Na6, h6, g6, f6, e6, d6, c6, b6, a6, h5, g5, f5, e5, d5, c5, b5, a5)>\n",
            "['g1h3', 'g1f3', 'b1c3', 'b1a3', 'h2h3', 'g2g3', 'f2f3', 'e2e3', 'd2d3', 'c2c3', 'b2b3', 'a2a3', 'h2h4', 'g2g4', 'f2f4', 'e2e4', 'd2d4', 'c2c4', 'b2b4', 'a2a4', 'g8h6', 'g8f6', 'b8c6', 'b8a6', 'h7h6', 'g7g6', 'f7f6', 'e7e6', 'd7d6', 'c7c6', 'b7b6', 'a7a6', 'h7h5', 'g7g5', 'f7f5', 'e7e5', 'd7d5', 'c7c5', 'b7b5', 'a7a5']\n",
            "Lance Inválido\n",
            "Lance Inválido\n",
            "Lance Inválido\n",
            "Lance Inválido\n"
          ]
        }
      ]
    }
  ]
}